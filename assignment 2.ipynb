{
 "cells": [
  {
   "cell_type": "markdown",
   "id": "8af5fc01",
   "metadata": {},
   "source": [
    "# 1. Write a Python program to convert kilometers to miles?\n"
   ]
  },
  {
   "cell_type": "code",
   "execution_count": 2,
   "id": "ccd4f16d",
   "metadata": {},
   "outputs": [
    {
     "name": "stdout",
     "output_type": "stream",
     "text": [
      "value in km :7\n",
      "value in miles : 4.349597\n"
     ]
    }
   ],
   "source": [
    "km =int(input(\"value in km :\"))\n",
    "ratio = 0.621371\n",
    "mi = km * ratio\n",
    "print(\"value in miles :\" ,mi)"
   ]
  },
  {
   "cell_type": "markdown",
   "id": "2ddbd971",
   "metadata": {},
   "source": [
    "# 2. Write a Python program to convert Celsius to Fahrenheit?"
   ]
  },
  {
   "cell_type": "code",
   "execution_count": 7,
   "id": "3ece0b89",
   "metadata": {},
   "outputs": [
    {
     "name": "stdout",
     "output_type": "stream",
     "text": [
      "value in fahrenheit :108\n",
      "value in celsius : 90.22222222222223\n"
     ]
    }
   ],
   "source": [
    "Fah = int(input(\"value in fahrenheit :\"))\n",
    "cel = Fah-32/1.8\n",
    "print(\"value in celsius :\" ,cel)"
   ]
  },
  {
   "cell_type": "markdown",
   "id": "65b3c4db",
   "metadata": {},
   "source": [
    "# 3. Write a Python program to display calendar?"
   ]
  },
  {
   "cell_type": "code",
   "execution_count": 15,
   "id": "19f668dd",
   "metadata": {},
   "outputs": [
    {
     "name": "stdout",
     "output_type": "stream",
     "text": [
      "      May 2022\n",
      "Mo Tu We Th Fr Sa Su\n",
      "                   1\n",
      " 2  3  4  5  6  7  8\n",
      " 9 10 11 12 13 14 15\n",
      "16 17 18 19 20 21 22\n",
      "23 24 25 26 27 28 29\n",
      "30 31\n",
      "\n"
     ]
    }
   ],
   "source": [
    "import calendar  \n",
    "cal2=calendar.month(2022,5)\n",
    "print(cal2)"
   ]
  },
  {
   "cell_type": "code",
   "execution_count": 16,
   "id": "f0c228e8",
   "metadata": {},
   "outputs": [
    {
     "name": "stdout",
     "output_type": "stream",
     "text": [
      "    January 2023\n",
      "Mo Tu We Th Fr Sa Su\n",
      "                   1\n",
      " 2  3  4  5  6  7  8\n",
      " 9 10 11 12 13 14 15\n",
      "16 17 18 19 20 21 22\n",
      "23 24 25 26 27 28 29\n",
      "30 31\n",
      "\n"
     ]
    }
   ],
   "source": [
    "import calendar  \n",
    "cal2=calendar.month(2023,1)\n",
    "print(cal2)"
   ]
  },
  {
   "cell_type": "markdown",
   "id": "055b267c",
   "metadata": {},
   "source": [
    "# 4. Write a Python program to solve quadratic equation?"
   ]
  },
  {
   "cell_type": "code",
   "execution_count": 6,
   "id": "5780deeb",
   "metadata": {},
   "outputs": [
    {
     "name": "stdout",
     "output_type": "stream",
     "text": [
      "Enter the value of a:2\n",
      "Enter the value of b:5\n",
      "Enter the value of c:4\n",
      "Two distinct complex roots are -5.00+2.65 and -5.00-2.65\n"
     ]
    }
   ],
   "source": [
    "import math\n",
    "a = int(input('Enter the value of a:'))\n",
    "b = int(input('Enter the value of b:'))\n",
    "c = int(input('Enter the value of c:'))\n",
    "\n",
    "dis = (b**2)-(4*a*c)\n",
    "\n",
    "if(dis>0):\n",
    "    root1=-b +math.sqrt(dis)/2*a\n",
    "    root2=-b-math.sqrt(dis)/2*a\n",
    "    print(\"Two distict real roots are %.2f and %.2f\" %(root1,root2))\n",
    "    \n",
    "elif(dis==0):\n",
    "    root1= root2= -b/2*a\n",
    "    \n",
    "    \n",
    "elif(dis<0):   \n",
    "    root1= root2= -b/2*a\n",
    "    def __init__(self,imaginary):\n",
    "        self.imaginary=imaginary\n",
    "        \n",
    "    imaginary= math.sqrt(-dis)/2*a\n",
    "    print(\"Two distinct complex roots are %.2f+%.2f and %.2f-%.2f\"\n",
    "                      %(root1,imaginary,root2,imaginary))"
   ]
  },
  {
   "cell_type": "markdown",
   "id": "7004956a",
   "metadata": {},
   "source": [
    "# 5. Write a Python program to swap two variables without temp variable?"
   ]
  },
  {
   "cell_type": "code",
   "execution_count": 15,
   "id": "b51e4d15",
   "metadata": {},
   "outputs": [
    {
     "name": "stdout",
     "output_type": "stream",
     "text": [
      "x = 10\n",
      "y = 5\n"
     ]
    }
   ],
   "source": [
    "    x = 5\n",
    "y = 10\n",
    "\n",
    "x, y = y, x\n",
    "print(\"x =\", x)\n",
    "print(\"y =\", y)"
   ]
  },
  {
   "cell_type": "code",
   "execution_count": null,
   "id": "b659c140",
   "metadata": {},
   "outputs": [],
   "source": []
  },
  {
   "cell_type": "code",
   "execution_count": null,
   "id": "451a186d",
   "metadata": {},
   "outputs": [],
   "source": []
  }
 ],
 "metadata": {
  "kernelspec": {
   "display_name": "Python 3 (ipykernel)",
   "language": "python",
   "name": "python3"
  },
  "language_info": {
   "codemirror_mode": {
    "name": "ipython",
    "version": 3
   },
   "file_extension": ".py",
   "mimetype": "text/x-python",
   "name": "python",
   "nbconvert_exporter": "python",
   "pygments_lexer": "ipython3",
   "version": "3.9.7"
  }
 },
 "nbformat": 4,
 "nbformat_minor": 5
}
