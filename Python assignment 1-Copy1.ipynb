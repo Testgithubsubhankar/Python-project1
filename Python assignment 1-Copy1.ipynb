{
 "cells": [
  {
   "cell_type": "markdown",
   "id": "083c5869",
   "metadata": {},
   "source": [
    "# 1. Write a Python program to print \"Hello python\"?"
   ]
  },
  {
   "cell_type": "code",
   "execution_count": 13,
   "id": "ff126180",
   "metadata": {},
   "outputs": [],
   "source": [
    "s = \"Hello Python\"\n",
    "       "
   ]
  },
  {
   "cell_type": "code",
   "execution_count": 14,
   "id": "28538998",
   "metadata": {},
   "outputs": [
    {
     "name": "stdout",
     "output_type": "stream",
     "text": [
      "Hello Python\n"
     ]
    }
   ],
   "source": [
    "print(s)"
   ]
  },
  {
   "cell_type": "markdown",
   "id": "cce92d05",
   "metadata": {},
   "source": [
    "# 2. Write a Python program to do arithmetical operations addition and division.?"
   ]
  },
  {
   "cell_type": "code",
   "execution_count": 15,
   "id": "66cbd30b",
   "metadata": {},
   "outputs": [],
   "source": [
    "s1 = 45\n",
    "s2= 9"
   ]
  },
  {
   "cell_type": "code",
   "execution_count": 16,
   "id": "03b94b9e",
   "metadata": {},
   "outputs": [
    {
     "name": "stdout",
     "output_type": "stream",
     "text": [
      "54\n"
     ]
    }
   ],
   "source": [
    "print(s1+s2)"
   ]
  },
  {
   "cell_type": "code",
   "execution_count": 17,
   "id": "4a5ef9bf",
   "metadata": {},
   "outputs": [
    {
     "name": "stdout",
     "output_type": "stream",
     "text": [
      "5.0\n"
     ]
    }
   ],
   "source": [
    "print(s1/s2)"
   ]
  },
  {
   "cell_type": "markdown",
   "id": "89764f6f",
   "metadata": {},
   "source": [
    "# 3.Write a Python program to find the area of a triangle?"
   ]
  },
  {
   "cell_type": "code",
   "execution_count": 18,
   "id": "c618c67b",
   "metadata": {},
   "outputs": [],
   "source": [
    "l=40\n",
    "b=5"
   ]
  },
  {
   "cell_type": "code",
   "execution_count": 19,
   "id": "a8def332",
   "metadata": {},
   "outputs": [
    {
     "name": "stdout",
     "output_type": "stream",
     "text": [
      "100.0\n"
     ]
    }
   ],
   "source": [
    "print(1/2*l*b)"
   ]
  },
  {
   "cell_type": "markdown",
   "id": "948cf914",
   "metadata": {},
   "source": [
    "# 4.Write a Python program to swap two variables?\n"
   ]
  },
  {
   "cell_type": "code",
   "execution_count": 34,
   "id": "78653ca4",
   "metadata": {},
   "outputs": [
    {
     "name": "stdout",
     "output_type": "stream",
     "text": [
      "value of x: 20\n",
      "value of y: 45\n"
     ]
    }
   ],
   "source": [
    "x=45\n",
    "y=20\n",
    "# swapping of two variables \n",
    "#without using third variable\n",
    "x,y = y,x\n",
    "print(\"value of x:\" , x)\n",
    "print(\"value of y:\" , y)"
   ]
  },
  {
   "cell_type": "markdown",
   "id": "f5d31e36",
   "metadata": {},
   "source": [
    "# 5.Write a Python program to generate a random number?\n"
   ]
  },
  {
   "cell_type": "code",
   "execution_count": 40,
   "id": "87ac9a4b",
   "metadata": {},
   "outputs": [
    {
     "name": "stdout",
     "output_type": "stream",
     "text": [
      "5\n"
     ]
    }
   ],
   "source": [
    "import random\n",
    "print(random.randint(0,9))"
   ]
  },
  {
   "cell_type": "code",
   "execution_count": null,
   "id": "a95a2853",
   "metadata": {},
   "outputs": [],
   "source": []
  },
  {
   "cell_type": "code",
   "execution_count": null,
   "id": "d630771f",
   "metadata": {},
   "outputs": [],
   "source": []
  }
 ],
 "metadata": {
  "kernelspec": {
   "display_name": "Python 3 (ipykernel)",
   "language": "python",
   "name": "python3"
  },
  "language_info": {
   "codemirror_mode": {
    "name": "ipython",
    "version": 3
   },
   "file_extension": ".py",
   "mimetype": "text/x-python",
   "name": "python",
   "nbconvert_exporter": "python",
   "pygments_lexer": "ipython3",
   "version": "3.9.7"
  }
 },
 "nbformat": 4,
 "nbformat_minor": 5
}
